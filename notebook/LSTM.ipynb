{
 "nbformat": 4,
 "nbformat_minor": 0,
 "metadata": {
  "colab": {
   "provenance": []
  },
  "kernelspec": {
   "name": "python3",
   "display_name": "Python 3"
  },
  "language_info": {
   "name": "python"
  }
 },
 "cells": [
  {
   "cell_type": "code",
   "source": [],
   "metadata": {
    "id": "CX8_N2s41F7z"
   },
   "execution_count": null,
   "outputs": []
  },
  {
   "cell_type": "code",
   "source": [],
   "metadata": {
    "id": "6w4jZ2Ot1F50"
   },
   "execution_count": null,
   "outputs": []
  },
  {
   "cell_type": "code",
   "source": [],
   "metadata": {
    "id": "MEb-XJqP1F2a"
   },
   "execution_count": null,
   "outputs": []
  },
  {
   "cell_type": "code",
   "source": [],
   "metadata": {
    "id": "YiJC63oN1FzT"
   },
   "execution_count": null,
   "outputs": []
  },
  {
   "cell_type": "code",
   "source": [
    "import pandas as pd\n",
    "import numpy as np\n",
    "from sklearn.preprocessing import MinMaxScaler\n",
    "from sklearn.metrics import mean_squared_error, mean_absolute_error\n",
    "import torch\n",
    "import torch.nn as nn\n",
    "from torch.utils.data import DataLoader, TensorDataset\n",
    "import matplotlib.pyplot as plt"
   ],
   "metadata": {
    "id": "8Sz9iGX90KeS"
   },
   "execution_count": null,
   "outputs": []
  },
  {
   "cell_type": "code",
   "source": [
    "## LSTM\n",
    "import random\n",
    "import numpy as np\n",
    "import torch\n",
    "import pandas as pd\n",
    "\n",
    "# # 시드 고정 (여기에 추가)\n",
    "SEED = 42\n",
    "\n",
    "random.seed(SEED)\n",
    "np.random.seed(SEED)\n",
    "torch.manual_seed(SEED)\n",
    "torch.cuda.manual_seed(SEED)\n",
    "torch.cuda.manual_seed_all(SEED)\n",
    "torch.backends.cudnn.deterministic = True\n",
    "torch.backends.cudnn.benchmark = False"
   ],
   "metadata": {
    "id": "QqOKeNAf0L5C"
   },
   "execution_count": 108,
   "outputs": []
  },
  {
   "cell_type": "code",
   "source": [
    "from pathlib import Path\n",
    "data_dir = Path('notebook/data') if Path('notebook/data').is_dir() else Path('data')\n",
    "train = pd.read_csv(data_dir / 'merged_train (1).csv')\n",
    "test = pd.read_csv(data_dir / 'merged_test (1).csv')\n",
    "train.columns = [c.lower().strip() for c in train.columns]\n",
    "test.columns = [c.lower().strip() for c in test.columns]\n",
    "train['date'] = pd.to_datetime(train['date'])\n",
    "test['date'] = pd.to_datetime(test['date'])\n",
    "data = pd.concat([train, test], axis=0).reset_index(drop=True)\n",
    "\n",
    "seq_length = 5\n",
    "pred_size = 6\n",
    "train = data[:-pred_size].copy()\n",
    "test = data[-(pred_size + seq_length):].copy()\n",
    "\n",
    "\n",
    "target_col = 'close'\n",
    "date_col = 'date'\n",
    "feature_cols = ['neu','trend', 'close']"
   ],
   "metadata": {
    "id": "xbCWkU7l0OIC"
   },
   "execution_count": 109,
   "outputs": []
  },
  {
   "cell_type": "code",
   "source": [
    "train.shape"
   ],
   "metadata": {
    "colab": {
     "base_uri": "https://localhost:8080/"
    },
    "id": "h6UQYTyBDtXx",
    "outputId": "c9914b9e-40e0-48a5-ea46-2a79356e6b41"
   },
   "execution_count": 110,
   "outputs": [
    {
     "output_type": "execute_result",
     "data": {
      "text/plain": [
       "(96, 11)"
      ]
     },
     "metadata": {},
     "execution_count": 110
    }
   ]
  },
  {
   "cell_type": "code",
   "source": [
    "# 입력 스케일링\n",
    "scaler = MinMaxScaler()\n",
    "scaled_train = scaler.fit_transform(train[feature_cols])\n",
    "scaled_test = scaler.transform(test[feature_cols])\n",
    "\n",
    "# 타깃(close) 스케일링 (예측 대상)\n",
    "close_scaler = MinMaxScaler()\n",
    "scaled_close_train = close_scaler.fit_transform(train[[target_col]]).flatten()\n",
    "scaled_close_test = close_scaler.transform(test[[target_col]]).flatten()\n",
    "\n",
    "# 시퀀스 생성 함수\n",
    "def create_sequences(X, y, seq_length):\n",
    "    xs, ys = [], []\n",
    "    for i in range(len(X) - seq_length):\n",
    "        xs.append(X[i:i+seq_length])          # (seq_length, input_size)\n",
    "        ys.append(y[i + seq_length])          # close(t+1)\n",
    "    return np.array(xs), np.array(ys)\n",
    "\n",
    "# 시퀀스 생성\n",
    "X_train, y_train = create_sequences(scaled_train, scaled_close_train, seq_length)\n",
    "X_test, y_test = create_sequences(scaled_test, scaled_close_test, seq_length)\n",
    "\n",
    "# 텐서 변환\n",
    "X_train = torch.tensor(X_train, dtype=torch.float32)\n",
    "y_train = torch.tensor(y_train, dtype=torch.float32).view(-1, 1)\n",
    "X_test = torch.tensor(X_test, dtype=torch.float32)\n",
    "y_test = torch.tensor(y_test, dtype=torch.float32).view(-1, 1)\n",
    "\n",
    "## tensor dataset\n",
    "train_dataset = TensorDataset(X_train, y_train)\n",
    "test_dataset = TensorDataset(X_test, y_test)\n",
    "\n",
    "## Dataloader\n",
    "train_loader = DataLoader(train_dataset, batch_size = 16, shuffle=True, drop_last = True)\n",
    "test_loader = DataLoader(test_dataset, batch_size = 16, shuffle=False)\n",
    "\n",
    "# LSTM 모델 정의\n",
    "class LSTM(nn.Module):\n",
    "    def __init__(self, input_size, seq_len, hidden_size=32, num_layers=2, output_size=1):\n",
    "        super().__init__()\n",
    "        self.num_layers = num_layers\n",
    "        self.hidden_size = hidden_size\n",
    "        self.seq_len = seq_len\n",
    "        self.lstm = nn.LSTM(input_size, hidden_size, num_layers, batch_first=True)\n",
    "        self.fc = nn.Linear(hidden_size, output_size, bias = True)\n",
    "\n",
    "    def reset_hidden_state(self):\n",
    "      self.hidden = (\n",
    "          torch.zeros(self.num_layers, self.seq_len, self.hidden_size),\n",
    "          torch.zeros(self.num_layers, self.seq_len, self.hidden_size),\n",
    "          )\n",
    "\n",
    "    def forward(self, x):\n",
    "        out, _ = self.lstm(x)\n",
    "        out = self.fc(out[:, -1, :])  # 마지막 시점만\n",
    "        return out\n",
    "\n",
    "# 모델 학습\n",
    "device = torch.device(\"cuda\" if torch.cuda.is_available() else \"cpu\")\n",
    "model = LSTM(\n",
    "    input_size=len(feature_cols),\n",
    "    seq_len = seq_length\n",
    "    ).to(device)  # ✅ 3 features: close, neu, trend\n",
    "\n",
    "optimizer = torch.optim.AdamW(model.parameters(), lr=0.005, weight_decay=5e-5)\n",
    "scheduler = torch.optim.lr_scheduler.StepLR(optimizer, step_size=5, gamma = 0.4)\n",
    "criterion = nn.MSELoss()\n",
    "num_epochs = 100\n",
    "patience = 20\n",
    "\n",
    "train_loss = np.zeros(num_epochs)\n",
    "\n",
    "for epoch in range(1, num_epochs + 1):\n",
    "  train_epoch_loss = 0\n",
    "  model.train()\n",
    "  for _, data in enumerate(train_loader):\n",
    "    x_data, y_data = data\n",
    "\n",
    "    optimizer.zero_grad()\n",
    "\n",
    "    model.reset_hidden_state()\n",
    "    output = model(x_data)\n",
    "\n",
    "    loss = criterion(output, y_data)\n",
    "\n",
    "    loss.backward()\n",
    "    optimizer.step()\n",
    "  # train_loss[epoch] = loss / len(train_loader)\n",
    "  # scheduler.step()\n",
    "\n",
    "  if epoch % 1 == 0 or epoch == 1:\n",
    "      print(f\"[Epoch {epoch}] Train Loss: {loss.item():.4f}\")\n",
    "\n",
    "  ## early stop\n",
    "  # if (epoch % patience == 0) and (epoch > 0):\n",
    "  #   print(epoch, patience)\n",
    "  #   if train_loss[epoch - patience] < train_loss[epoch]:\n",
    "  #     break\n",
    "\n",
    "# 예측\n",
    "model.eval()\n",
    "with torch.no_grad():\n",
    "  model.reset_hidden_state()\n",
    "  preds_val = model(X_test.to(device)).cpu().numpy().flatten()\n",
    "\n",
    "# 역변환\n",
    "preds_val_inv = close_scaler.inverse_transform(preds_val.reshape(-1, 1)).flatten()\n",
    "y_test_inv = close_scaler.inverse_transform(y_test.numpy().reshape(-1, 1)).flatten()\n",
    "\n",
    "# 평가\n",
    "mae = mean_absolute_error(y_test_inv, preds_val_inv)\n",
    "rmse = mean_squared_error(y_test_inv, preds_val_inv)\n",
    "print(f\"\\n[Validation] MAE: {mae:.4f}, RMSE: {rmse:.4f}\")\n",
    "\n",
    "# 시각화\n",
    "val_dates = test['date'].values[seq_length:]\n",
    "plt.figure(figsize=(10, 6))\n",
    "plt.plot(val_dates, y_test_inv, label='Actual', marker='o')\n",
    "plt.plot(val_dates, preds_val_inv, label='Prediction', marker='x')\n",
    "plt.title(\"LSTM Prediction vs Actual (Validation)\")\n",
    "plt.xlabel(\"Date\")\n",
    "plt.ylabel(\"Close\")\n",
    "plt.legend()\n",
    "plt.grid(True)\n",
    "plt.tight_layout()\n",
    "plt.show()\n"
   ],
   "metadata": {
    "colab": {
     "base_uri": "https://localhost:8080/",
     "height": 1000
    },
    "id": "Ric4keHA1Mq4",
    "outputId": "4f572111-0d8b-492c-9e85-b5cb4ebdf5a2"
   },
   "execution_count": 111,
   "outputs": [
    {
     "output_type": "stream",
     "name": "stdout",
     "text": [
      "[Epoch 1] Train Loss: 0.0701\n",
      "[Epoch 2] Train Loss: 0.0690\n",
      "[Epoch 3] Train Loss: 0.0635\n",
      "[Epoch 4] Train Loss: 0.0451\n",
      "[Epoch 5] Train Loss: 0.0420\n",
      "[Epoch 6] Train Loss: 0.0418\n",
      "[Epoch 7] Train Loss: 0.0389\n",
      "[Epoch 8] Train Loss: 0.0270\n",
      "[Epoch 9] Train Loss: 0.0351\n",
      "[Epoch 10] Train Loss: 0.0162\n",
      "[Epoch 11] Train Loss: 0.0236\n",
      "[Epoch 12] Train Loss: 0.0121\n",
      "[Epoch 13] Train Loss: 0.0275\n",
      "[Epoch 14] Train Loss: 0.0219\n",
      "[Epoch 15] Train Loss: 0.0290\n",
      "[Epoch 16] Train Loss: 0.0262\n",
      "[Epoch 17] Train Loss: 0.0179\n",
      "[Epoch 18] Train Loss: 0.0139\n",
      "[Epoch 19] Train Loss: 0.0086\n",
      "[Epoch 20] Train Loss: 0.0195\n",
      "[Epoch 21] Train Loss: 0.0126\n",
      "[Epoch 22] Train Loss: 0.0054\n",
      "[Epoch 23] Train Loss: 0.0123\n",
      "[Epoch 24] Train Loss: 0.0083\n",
      "[Epoch 25] Train Loss: 0.0237\n",
      "[Epoch 26] Train Loss: 0.0108\n",
      "[Epoch 27] Train Loss: 0.0253\n",
      "[Epoch 28] Train Loss: 0.0156\n",
      "[Epoch 29] Train Loss: 0.0091\n",
      "[Epoch 30] Train Loss: 0.0099\n",
      "[Epoch 31] Train Loss: 0.0081\n",
      "[Epoch 32] Train Loss: 0.0166\n",
      "[Epoch 33] Train Loss: 0.0179\n",
      "[Epoch 34] Train Loss: 0.0077\n",
      "[Epoch 35] Train Loss: 0.0137\n",
      "[Epoch 36] Train Loss: 0.0072\n",
      "[Epoch 37] Train Loss: 0.0057\n",
      "[Epoch 38] Train Loss: 0.0120\n",
      "[Epoch 39] Train Loss: 0.0084\n",
      "[Epoch 40] Train Loss: 0.0083\n",
      "[Epoch 41] Train Loss: 0.0164\n",
      "[Epoch 42] Train Loss: 0.0045\n",
      "[Epoch 43] Train Loss: 0.0021\n",
      "[Epoch 44] Train Loss: 0.0114\n",
      "[Epoch 45] Train Loss: 0.0042\n",
      "[Epoch 46] Train Loss: 0.0094\n",
      "[Epoch 47] Train Loss: 0.0070\n",
      "[Epoch 48] Train Loss: 0.0072\n",
      "[Epoch 49] Train Loss: 0.0040\n",
      "[Epoch 50] Train Loss: 0.0078\n",
      "[Epoch 51] Train Loss: 0.0174\n",
      "[Epoch 52] Train Loss: 0.0024\n",
      "[Epoch 53] Train Loss: 0.0042\n",
      "[Epoch 54] Train Loss: 0.0090\n",
      "[Epoch 55] Train Loss: 0.0085\n",
      "[Epoch 56] Train Loss: 0.0134\n",
      "[Epoch 57] Train Loss: 0.0112\n",
      "[Epoch 58] Train Loss: 0.0059\n",
      "[Epoch 59] Train Loss: 0.0046\n",
      "[Epoch 60] Train Loss: 0.0049\n",
      "[Epoch 61] Train Loss: 0.0079\n",
      "[Epoch 62] Train Loss: 0.0058\n",
      "[Epoch 63] Train Loss: 0.0069\n",
      "[Epoch 64] Train Loss: 0.0177\n",
      "[Epoch 65] Train Loss: 0.0063\n",
      "[Epoch 66] Train Loss: 0.0056\n",
      "[Epoch 67] Train Loss: 0.0126\n",
      "[Epoch 68] Train Loss: 0.0120\n",
      "[Epoch 69] Train Loss: 0.0025\n",
      "[Epoch 70] Train Loss: 0.0078\n",
      "[Epoch 71] Train Loss: 0.0150\n",
      "[Epoch 72] Train Loss: 0.0070\n",
      "[Epoch 73] Train Loss: 0.0042\n",
      "[Epoch 74] Train Loss: 0.0113\n",
      "[Epoch 75] Train Loss: 0.0038\n",
      "[Epoch 76] Train Loss: 0.0042\n",
      "[Epoch 77] Train Loss: 0.0067\n",
      "[Epoch 78] Train Loss: 0.0200\n",
      "[Epoch 79] Train Loss: 0.0052\n",
      "[Epoch 80] Train Loss: 0.0064\n",
      "[Epoch 81] Train Loss: 0.0080\n",
      "[Epoch 82] Train Loss: 0.0052\n",
      "[Epoch 83] Train Loss: 0.0040\n",
      "[Epoch 84] Train Loss: 0.0111\n",
      "[Epoch 85] Train Loss: 0.0134\n",
      "[Epoch 86] Train Loss: 0.0132\n",
      "[Epoch 87] Train Loss: 0.0047\n",
      "[Epoch 88] Train Loss: 0.0134\n",
      "[Epoch 89] Train Loss: 0.0061\n",
      "[Epoch 90] Train Loss: 0.0049\n",
      "[Epoch 91] Train Loss: 0.0131\n",
      "[Epoch 92] Train Loss: 0.0037\n",
      "[Epoch 93] Train Loss: 0.0067\n",
      "[Epoch 94] Train Loss: 0.0159\n",
      "[Epoch 95] Train Loss: 0.0108\n",
      "[Epoch 96] Train Loss: 0.0093\n",
      "[Epoch 97] Train Loss: 0.0116\n",
      "[Epoch 98] Train Loss: 0.0036\n",
      "[Epoch 99] Train Loss: 0.0060\n",
      "[Epoch 100] Train Loss: 0.0094\n",
      "\n",
      "[Validation] MAE: 2.7116, RMSE: 10.2570\n"
     ]
    },
    {
     "output_type": "display_data",
     "data": {
      "text/plain": [
       "<Figure size 1000x600 with 1 Axes>"
      ],
      "image/png": "[encoded data removed]"
     },
     "metadata": {}
    }
   ]
  },
  {
   "cell_type": "code",
   "source": [
    "torch.save(model.state_dict(), './checkpoint_250607_0132.pth')"
   ],
   "metadata": {
    "id": "g0au-KJf1Xkh"
   },
   "execution_count": 112,
   "outputs": []
  },
  {
   "cell_type": "code",
   "source": [],
   "metadata": {
    "id": "-lrigLujFVo7"
   },
   "execution_count": null,
   "outputs": []
  },
  {
   "cell_type": "code",
   "source": [],
   "metadata": {
    "id": "9C5upjG6FVrD"
   },
   "execution_count": null,
   "outputs": []
  },
  {
   "cell_type": "code",
   "source": [],
   "metadata": {
    "id": "HHG9EvMbFVw6"
   },
   "execution_count": null,
   "outputs": []
  },
  {
   "cell_type": "code",
   "source": [],
   "metadata": {
    "id": "zbwMipVgFV0C"
   },
   "execution_count": null,
   "outputs": []
  }
 ]
}